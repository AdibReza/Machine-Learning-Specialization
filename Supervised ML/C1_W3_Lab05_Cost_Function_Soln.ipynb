{
 "cells": [
  {
   "cell_type": "markdown",
   "id": "8efe0ff4",
   "metadata": {},
   "source": [
    "# Optional Lab: Cost Function for Logistic Regression\n",
    "\n",
    "## Goals\n",
    "In this lab, you will:\n",
    "- examine the implementation and utilize the cost function for logistic regression."
   ]
  },
  {
   "cell_type": "code",
   "execution_count": 1,
   "id": "aed3fffe",
   "metadata": {},
   "outputs": [
    {
     "ename": "ModuleNotFoundError",
     "evalue": "No module named 'lab_utils_common'",
     "output_type": "error",
     "traceback": [
      "\u001b[1;31m---------------------------------------------------------------------------\u001b[0m",
      "\u001b[1;31mModuleNotFoundError\u001b[0m                       Traceback (most recent call last)",
      "\u001b[1;32m<ipython-input-1-9bd3e84cff5e>\u001b[0m in \u001b[0;36m<module>\u001b[1;34m\u001b[0m\n\u001b[0;32m      2\u001b[0m \u001b[0mget_ipython\u001b[0m\u001b[1;33m(\u001b[0m\u001b[1;33m)\u001b[0m\u001b[1;33m.\u001b[0m\u001b[0mrun_line_magic\u001b[0m\u001b[1;33m(\u001b[0m\u001b[1;34m'matplotlib'\u001b[0m\u001b[1;33m,\u001b[0m \u001b[1;34m'widget'\u001b[0m\u001b[1;33m)\u001b[0m\u001b[1;33m\u001b[0m\u001b[1;33m\u001b[0m\u001b[0m\n\u001b[0;32m      3\u001b[0m \u001b[1;32mimport\u001b[0m \u001b[0mmatplotlib\u001b[0m\u001b[1;33m.\u001b[0m\u001b[0mpyplot\u001b[0m \u001b[1;32mas\u001b[0m \u001b[0mplt\u001b[0m\u001b[1;33m\u001b[0m\u001b[1;33m\u001b[0m\u001b[0m\n\u001b[1;32m----> 4\u001b[1;33m \u001b[1;32mfrom\u001b[0m \u001b[0mlab_utils_common\u001b[0m \u001b[1;32mimport\u001b[0m  \u001b[0mplot_data\u001b[0m\u001b[1;33m,\u001b[0m \u001b[0msigmoid\u001b[0m\u001b[1;33m,\u001b[0m \u001b[0mdlc\u001b[0m\u001b[1;33m\u001b[0m\u001b[1;33m\u001b[0m\u001b[0m\n\u001b[0m\u001b[0;32m      5\u001b[0m \u001b[0mplt\u001b[0m\u001b[1;33m.\u001b[0m\u001b[0mstyle\u001b[0m\u001b[1;33m.\u001b[0m\u001b[0muse\u001b[0m\u001b[1;33m(\u001b[0m\u001b[1;34m'./deeplearning.mplstyle'\u001b[0m\u001b[1;33m)\u001b[0m\u001b[1;33m\u001b[0m\u001b[1;33m\u001b[0m\u001b[0m\n",
      "\u001b[1;31mModuleNotFoundError\u001b[0m: No module named 'lab_utils_common'"
     ]
    }
   ],
   "source": [
    "import numpy as np\n",
    "%matplotlib widget\n",
    "import matplotlib.pyplot as plt\n",
    "from lab_utils_common import  plot_data, sigmoid, dlc\n",
    "plt.style.use('./deeplearning.mplstyle')"
   ]
  },
  {
   "cell_type": "code",
   "execution_count": 6,
   "id": "c79fb92c",
   "metadata": {},
   "outputs": [
    {
     "name": "stdout",
     "output_type": "stream",
     "text": [
      "Collecting lab-utils\n",
      "  Downloading lab-utils-0.5.12.tar.gz (41 kB)\n",
      "  Installing build dependencies: started\n",
      "  Installing build dependencies: finished with status 'done'\n",
      "  Getting requirements to build wheel: started\n",
      "  Getting requirements to build wheel: finished with status 'done'\n",
      "    Preparing wheel metadata: started\n",
      "    Preparing wheel metadata: finished with status 'done'\n",
      "Collecting slacker-log-handler\n",
      "  Downloading slacker_log_handler-1.8.0.tar.gz (9.4 kB)\n",
      "Collecting zc.lockfile\n",
      "  Downloading zc.lockfile-2.0-py2.py3-none-any.whl (9.7 kB)\n",
      "Collecting psycopg2\n",
      "  Downloading psycopg2-2.9.5-cp38-cp38-win_amd64.whl (1.2 MB)\n",
      "Requirement already satisfied: pandas in c:\\programdata\\anaconda3\\lib\\site-packages (from lab-utils) (1.2.4)\n",
      "Collecting python-json-logger\n",
      "  Downloading python_json_logger-2.0.4-py3-none-any.whl (7.8 kB)\n",
      "Requirement already satisfied: numpy>=1.16.5 in c:\\programdata\\anaconda3\\lib\\site-packages (from pandas->lab-utils) (1.20.1)\n",
      "Requirement already satisfied: python-dateutil>=2.7.3 in c:\\programdata\\anaconda3\\lib\\site-packages (from pandas->lab-utils) (2.8.1)\n",
      "Requirement already satisfied: pytz>=2017.3 in c:\\programdata\\anaconda3\\lib\\site-packages (from pandas->lab-utils) (2021.1)\n",
      "Requirement already satisfied: six>=1.5 in c:\\programdata\\anaconda3\\lib\\site-packages (from python-dateutil>=2.7.3->pandas->lab-utils) (1.15.0)\n",
      "Collecting slacker<=0.9.65,>=0.7.3\n",
      "  Downloading slacker-0.9.65.tar.gz (8.3 kB)\n",
      "Requirement already satisfied: requests>=2.2.1 in c:\\programdata\\anaconda3\\lib\\site-packages (from slacker<=0.9.65,>=0.7.3->slacker-log-handler->lab-utils) (2.25.1)\n",
      "Requirement already satisfied: urllib3<1.27,>=1.21.1 in c:\\programdata\\anaconda3\\lib\\site-packages (from requests>=2.2.1->slacker<=0.9.65,>=0.7.3->slacker-log-handler->lab-utils) (1.26.4)\n",
      "Requirement already satisfied: certifi>=2017.4.17 in c:\\programdata\\anaconda3\\lib\\site-packages (from requests>=2.2.1->slacker<=0.9.65,>=0.7.3->slacker-log-handler->lab-utils) (2020.12.5)\n",
      "Requirement already satisfied: idna<3,>=2.5 in c:\\programdata\\anaconda3\\lib\\site-packages (from requests>=2.2.1->slacker<=0.9.65,>=0.7.3->slacker-log-handler->lab-utils) (2.10)\n",
      "Requirement already satisfied: chardet<5,>=3.0.2 in c:\\programdata\\anaconda3\\lib\\site-packages (from requests>=2.2.1->slacker<=0.9.65,>=0.7.3->slacker-log-handler->lab-utils) (4.0.0)\n",
      "Requirement already satisfied: setuptools in c:\\programdata\\anaconda3\\lib\\site-packages (from zc.lockfile->lab-utils) (52.0.0.post20210125)\n",
      "Building wheels for collected packages: lab-utils, slacker-log-handler, slacker\n",
      "  Building wheel for lab-utils (PEP 517): started\n",
      "  Building wheel for lab-utils (PEP 517): finished with status 'done'\n",
      "  Created wheel for lab-utils: filename=lab_utils-0.5.12-py3-none-any.whl size=38013 sha256=7d95dd35fce420ea13ed9f879b48fd77cce2ecc91700579590562bc6d8a45923\n",
      "  Stored in directory: c:\\users\\hp\\appdata\\local\\pip\\cache\\wheels\\5b\\cb\\62\\2f6101d684460fcb16c6e256b489dc9076a8c11fd5b1f731ee\n",
      "  Building wheel for slacker-log-handler (setup.py): started\n",
      "  Building wheel for slacker-log-handler (setup.py): finished with status 'done'\n",
      "  Created wheel for slacker-log-handler: filename=slacker_log_handler-1.8.0-py2.py3-none-any.whl size=8408 sha256=fe6d077ae4b0d96004d7ff155670d9fdc49a5491313539c5126f88b642d9d8d2\n",
      "  Stored in directory: c:\\users\\hp\\appdata\\local\\pip\\cache\\wheels\\35\\6d\\89\\134c226f8547bfb536f9b5076b31b880e10b5c03ae8271f207\n",
      "  Building wheel for slacker (setup.py): started\n",
      "  Building wheel for slacker (setup.py): finished with status 'done'\n",
      "  Created wheel for slacker: filename=slacker-0.9.65-py3-none-any.whl size=7761 sha256=63469a2c2f48536df0a8fe3e3fd1a8d096d29cd628a76a05da8e0fdc83c82b01\n",
      "  Stored in directory: c:\\users\\hp\\appdata\\local\\pip\\cache\\wheels\\ba\\1e\\6d\\95c8339ab2a8bbfbf928f299b78bffabde801ee9a468a28470\n",
      "Successfully built lab-utils slacker-log-handler slacker\n",
      "Installing collected packages: slacker, zc.lockfile, slacker-log-handler, python-json-logger, psycopg2, lab-utils\n",
      "Successfully installed lab-utils-0.5.12 psycopg2-2.9.5 python-json-logger-2.0.4 slacker-0.9.65 slacker-log-handler-1.8.0 zc.lockfile-2.0\n",
      "Note: you may need to restart the kernel to use updated packages.\n"
     ]
    }
   ],
   "source": [
    "pip install lab-utils\n"
   ]
  },
  {
   "cell_type": "markdown",
   "id": "594868eb",
   "metadata": {},
   "source": [
    "## Dataset \n",
    "Let's start with the same dataset as was used in the decision boundary lab."
   ]
  },
  {
   "cell_type": "code",
   "execution_count": 3,
   "id": "3e28acc3",
   "metadata": {
    "tags": []
   },
   "outputs": [],
   "source": [
    "X_train = np.array([[0.5, 1.5], [1,1], [1.5, 0.5], [3, 0.5], [2, 2], [1, 2.5]])  #(m,n)\n",
    "y_train = np.array([0, 0, 0, 1, 1, 1])                                           #(m,)"
   ]
  },
  {
   "cell_type": "markdown",
   "id": "9595a333",
   "metadata": {},
   "source": [
    "We will use a helper function to plot this data. The data points with label $y=1$ are shown as red crosses, while the data points with label $y=0$ are shown as blue circles."
   ]
  },
  {
   "cell_type": "code",
   "execution_count": 4,
   "id": "74ca7e1b",
   "metadata": {},
   "outputs": [
    {
     "ename": "NameError",
     "evalue": "name 'plot_data' is not defined",
     "output_type": "error",
     "traceback": [
      "\u001b[1;31m---------------------------------------------------------------------------\u001b[0m",
      "\u001b[1;31mNameError\u001b[0m                                 Traceback (most recent call last)",
      "\u001b[1;32m<ipython-input-4-5249349cd370>\u001b[0m in \u001b[0;36m<module>\u001b[1;34m\u001b[0m\n\u001b[0;32m      1\u001b[0m \u001b[0mfig\u001b[0m\u001b[1;33m,\u001b[0m\u001b[0max\u001b[0m \u001b[1;33m=\u001b[0m \u001b[0mplt\u001b[0m\u001b[1;33m.\u001b[0m\u001b[0msubplots\u001b[0m\u001b[1;33m(\u001b[0m\u001b[1;36m1\u001b[0m\u001b[1;33m,\u001b[0m\u001b[1;36m1\u001b[0m\u001b[1;33m,\u001b[0m\u001b[0mfigsize\u001b[0m\u001b[1;33m=\u001b[0m\u001b[1;33m(\u001b[0m\u001b[1;36m4\u001b[0m\u001b[1;33m,\u001b[0m\u001b[1;36m4\u001b[0m\u001b[1;33m)\u001b[0m\u001b[1;33m)\u001b[0m\u001b[1;33m\u001b[0m\u001b[1;33m\u001b[0m\u001b[0m\n\u001b[1;32m----> 2\u001b[1;33m \u001b[0mplot_data\u001b[0m\u001b[1;33m(\u001b[0m\u001b[0mX_train\u001b[0m\u001b[1;33m,\u001b[0m \u001b[0my_train\u001b[0m\u001b[1;33m,\u001b[0m \u001b[0max\u001b[0m\u001b[1;33m)\u001b[0m\u001b[1;33m\u001b[0m\u001b[1;33m\u001b[0m\u001b[0m\n\u001b[0m\u001b[0;32m      3\u001b[0m \u001b[1;33m\u001b[0m\u001b[0m\n\u001b[0;32m      4\u001b[0m \u001b[1;31m# Set both axes to be from 0-4\u001b[0m\u001b[1;33m\u001b[0m\u001b[1;33m\u001b[0m\u001b[1;33m\u001b[0m\u001b[0m\n\u001b[0;32m      5\u001b[0m \u001b[0max\u001b[0m\u001b[1;33m.\u001b[0m\u001b[0maxis\u001b[0m\u001b[1;33m(\u001b[0m\u001b[1;33m[\u001b[0m\u001b[1;36m0\u001b[0m\u001b[1;33m,\u001b[0m \u001b[1;36m4\u001b[0m\u001b[1;33m,\u001b[0m \u001b[1;36m0\u001b[0m\u001b[1;33m,\u001b[0m \u001b[1;36m3.5\u001b[0m\u001b[1;33m]\u001b[0m\u001b[1;33m)\u001b[0m\u001b[1;33m\u001b[0m\u001b[1;33m\u001b[0m\u001b[0m\n",
      "\u001b[1;31mNameError\u001b[0m: name 'plot_data' is not defined"
     ]
    },
    {
     "data": {
      "application/vnd.jupyter.widget-view+json": {
       "model_id": "58b67b063a984c92951db657a92f4934",
       "version_major": 2,
       "version_minor": 0
      },
      "image/png": "[encoded data removed]",
      "text/html": [
       "\n",
       "            <div style=\"display: inline-block;\">\n",
       "                <div class=\"jupyter-widgets widget-label\" style=\"text-align: center;\">\n",
       "                    Figure\n",
       "                </div>\n",
       "                <img src='data:image/png;base64,iVBORw0KGgoAAAANSUhEUgAAAZAAAAGQCAYAAACAvzbMAAAAOXRFWHRTb2Z0d2FyZQBNYXRwbG90bGliIHZlcnNpb24zLjYuMywgaHR0cHM6Ly9tYXRwbG90bGliLm9yZy/P9b71AAAACXBIWXMAAA9hAAAPYQGoP6dpAAAaZElEQVR4nO3df2zU9R3H8Vdb6BUiPXCsR+lOO3D4C6XYSi1IjMvNJppu/LHYiaFd44+p1SiXTahgq6KU+YN0kSIRdZpMVhwRZ6Sp005i1C7EQhOdgMGiZcYrdI4eFm2h99kfhnO1LaNvvu21+nwk90c/+37v3h9w9/R7dz2TnHNOAAAMUXKiBwAAjE0EBABgQkAAACYEBABgQkAAACYEBABgQkAAACYEBABgQkAAACYEBABgQkAAACYEBABgQkAAACYEBABgQkAAACYEBABgQkAAACYEBABgQkAAACYEBABgQkAAACYEBABgQkAAACYEBABgQkAAACYEBABgQkAAACYEBABgQkAAACYEBABgQkAAACYEBABgQkAAACYEBABgQkAAACYEBABgQkAAACYEBABgQkAAACYEBABgQkAAACYEBABgQkAAACaeB+TNN99UUVGRpk+frqSkJL300kv/95zt27frkksukc/n0znnnKNnn33W67EAAB7zPCBdXV2aM2eOamtrT+n4/fv365prrtGVV16plpYW3XXXXbrxxhv16quvej0aAMBDSc45N2x3npSkrVu3atGiRYMes2zZMm3btk3vv/9+fO1Xv/qVDh8+rIaGhuEaDQBwmsYleoCmpiaFQqE+a4WFhbrrrrsGPae7u1vd3d3xn2OxmD7//HP94Ac/UFJS0nCNCgAjxjmnI0eOaPr06UpOHp1vVyc8IJFIRIFAoM9aIBBQNBrVl19+qQkTJvQ7p7q6Wvfff/9IjQgACXPgwAH96Ec/SvQYA0p4QCwqKioUDofjP3d2duqss87SgQMHlJ6ensDJAMAb0WhUwWBQkyZNSvQog0p4QKZNm6b29vY+a+3t7UpPTx/w6kOSfD6ffD5fv/X09HQCAuA7ZTS/LJ/wF9YKCgrU2NjYZ+21115TQUFBgiYCAJwKzwPyxRdfqKWlRS0tLZK+/phuS0uL2traJH398lNJSUn8+FtuuUWtra26++67tWfPHq1fv14vvPCCli5d6vVoAAAPeR6Qd999V3PnztXcuXMlSeFwWHPnzlVlZaUk6bPPPovHRJJ+/OMfa9u2bXrttdc0Z84cPfbYY3rqqadUWFjo9WgAAA8N6++BjJRoNCq/36/Ozk7eAwHwnTAWntcS/h4IAGBsIiAAABMCAgAwISAAABMCAgAwISAAABMCAgAwISAAABMCAgAwISAAABMCAgAwISAAABMCAgAwISAAABMCAgAwISAAABMCAgAwISAAABMCAgAwISAAABMCAgAwISAAABMCAgAwISAAABMCAgAwISAAABMCAgAwISAAABMCAgAwISAAABMCAgAwISAAABMCAgAwISAAABMCAgAwISAAABMCAgAwISAAABMCAgAwISAAABMCAgAwISAAABMCAgAwISAAABMCAgAwISAAABMCAgAwISAAABMCAgAwISAAAJNhCUhtba2ys7OVlpam/Px87dix46TH19TU6Nxzz9WECRMUDAa1dOlSffXVV8MxGgDAI54HZPPmzQqHw6qqqtLOnTs1Z84cFRYW6uDBgwMev2nTJi1fvlxVVVXavXu3nn76aW3evFn33HOP16MBADzkeUDWrl2rm266SWVlZbrgggu0YcMGTZw4Uc8888yAx7/zzjtasGCBFi9erOzsbF111VW67rrr/u9VCwAgsTwNSE9Pj5qbmxUKhb55gORkhUIhNTU1DXjO/Pnz1dzcHA9Ga2ur6uvrdfXVV3s5GgDAY+O8vLOOjg719vYqEAj0WQ8EAtqzZ8+A5yxevFgdHR26/PLL5ZzT8ePHdcstt5z0Jazu7m51d3fHf45Go95sAABwyhL+Kazt27dr9erVWr9+vXbu3KkXX3xR27Zt06pVqwY9p7q6Wn6/P34LBoMjODEAQJKSnHPOqzvr6enRxIkTtWXLFi1atCi+XlpaqsOHD+uvf/1rv3MWLlyoyy67TI888kh87U9/+pNuvvlmffHFF0pO7t+4ga5AgsGgOjs7lZ6e7tV2ACBhotGo/H7/qH5e8/QKJDU1Vbm5uWpsbIyvxWIxNTY2qqCgYMBzjh492i8SKSkpkqTB2ubz+ZSent7nBgAYWZ6+ByJJ4XBYpaWlysvL07x581RTU6Ouri6VlZVJkkpKSpSVlaXq6mpJUlFRkdauXau5c+cqPz9f+/bt07333quioqJ4SAAAo4/nASkuLtahQ4dUWVmpSCSinJwcNTQ0xN9Yb2tr63PFsXLlSiUlJWnlypX69NNP9cMf/lBFRUV66KGHvB4NAOAhT98DSZSx8FohAAzFWHheS/insAAAYxMBAQCYEBAAgAkBAQCYEBAAgAkBAQCYEBAAgAkBAQCYEBAAgAkBAQCYEBAAgAkBAQCYEBAAgAkBAQCYEBAAgAkBAQCYEBAAgAkBAQCYEBAAgAkBAQCYEBAAgAkBAQCYEBAAgAkBAQCYEBAAgAkBAQCYEBAAgAkBAQCYEBAAgAkBAQCYEBAAgAkBAQCYEBAAgAkBAQCYEBAAgAkBAQCYEBAAgAkBAQCYEBAAgAkBAQCYEBAAgAkBAQCYEBAAgAkBAQCYEBAAgAkBAQCYEBAAgAkBAQCYEBAAgAkBAQCYEBAAgMmwBKS2tlbZ2dlKS0tTfn6+duzYcdLjDx8+rPLycmVmZsrn82nWrFmqr68fjtEAAB4Z5/Udbt68WeFwWBs2bFB+fr5qampUWFiovXv3KiMjo9/xPT09+tnPfqaMjAxt2bJFWVlZ+uSTTzR58mSvRwMAeCjJOee8vMP8/HxdeumlWrdunSQpFospGAzqjjvu0PLly/sdv2HDBj3yyCPas2ePxo8fb3rMaDQqv9+vzs5Opaenn9b8ADAajIXnNU9fwurp6VFzc7NCodA3D5CcrFAopKampgHPefnll1VQUKDy8nIFAgHNnj1bq1evVm9v76CP093drWg02ucGABhZngako6NDvb29CgQCfdYDgYAikciA57S2tmrLli3q7e1VfX297r33Xj322GN68MEHB32c6upq+f3++C0YDHq5DQDAKUj4p7BisZgyMjL05JNPKjc3V8XFxVqxYoU2bNgw6DkVFRXq7OyM3w4cODCCEwMAJI/fRJ86dapSUlLU3t7eZ729vV3Tpk0b8JzMzEyNHz9eKSkp8bXzzz9fkUhEPT09Sk1N7XeOz+eTz+fzcnQAwBB5egWSmpqq3NxcNTY2xtdisZgaGxtVUFAw4DkLFizQvn37FIvF4msffvihMjMzB4wHAGB08PwlrHA4rI0bN+q5557T7t27deutt6qrq0tlZWWSpJKSElVUVMSPv/XWW/X555/rzjvv1Icffqht27Zp9erVKi8v93o0AICHPP89kOLiYh06dEiVlZWKRCLKyclRQ0ND/I31trY2JSd/061gMKhXX31VS5cu1cUXX6ysrCzdeeedWrZsmdejAQA85PnvgSTCWPi8NAAMxVh4Xkv4p7AAAGMTAQEAmBAQAIAJAQEAmBAQAIAJAQEAmBAQAIAJAQEAmBAQAIAJAQEAmBAQAIAJAQEAmBAQAIAJAQEAmBAQAIAJAQEAmBAQAIAJAQEAmBAQAIAJAQEAmBAQAIAJAQEAmBAQAIAJAQEAmBAQAIAJAQEAmBAQAIAJAQEAmBAQAIAJAQEAmBAQAIAJAQEAmBAQAIAJAQEAmBAQAIAJAQEAmBAQAIAJAQEAmBAQAIAJAQEAmBAQAIAJAQEAmBAQAIAJAQEAmBAQAIAJAQEAmBAQAIAJAQEAmBAQAIAJAQEAmAxLQGpra5Wdna20tDTl5+drx44dp3ReXV2dkpKStGjRouEYCwDgIc8DsnnzZoXDYVVVVWnnzp2aM2eOCgsLdfDgwZOe9/HHH+u3v/2tFi5c6PVIAIBh4HlA1q5dq5tuukllZWW64IILtGHDBk2cOFHPPPPMoOf09vbq+uuv1/33368ZM2Z4PRIAYBh4GpCenh41NzcrFAp98wDJyQqFQmpqahr0vAceeEAZGRm64YYbvBwHADCMxnl5Zx0dHert7VUgEOizHggEtGfPngHPeeutt/T000+rpaXllB+nu7tb3d3d8Z+j0ahpXgCAXUI/hXXkyBEtWbJEGzdu1NSpU0/5vOrqavn9/vgtGAwO45QAgIF4egUydepUpaSkqL29vc96e3u7pk2b1u/4jz76SB9//LGKioria7FY7OvBxo3T3r17NXPmzH7nVVRUKBwOx3+ORqNEBABGmKcBSU1NVW5urhobG+MfxY3FYmpsbNTtt9/e7/jzzjtP7733Xp+1lStX6siRI/rDH/4waBR8Pp98Pp+XowMAhsjTgEhSOBxWaWmp8vLyNG/ePNXU1Kirq0tlZWWSpJKSEmVlZam6ulppaWmaPXt2n/MnT54sSf3WAQCji+cBKS4u1qFDh1RZWalIJKKcnBw1NDTE31hva2tTcjK/AA8AY12Sc84leojTFY1G5ff71dnZqfT09ESPAwCnbSw8r3EpAAAwISAAABMCAgAwISAAABMCAgAwISAAABMCAgAwISAAABMCAgAwISAAABMCAgAwISAAABMCAgAwISAAABMCAgAwISAAABMCAgAwISAAABMCAgAwISAAABMCAgAwISAAABMCAgAwISAAABMCAgAwISAAABMCAgAwISAAABMCAgAwISAAABMCAgAwISAAABMCAgAwISAAABMCAgAwISAAABMCAgAwISAAABMCAgAwISAAABMCAgAwISAAABMCAgAwISAAABMCAgAwISAAABMCAgAwISAAABMCAgAwISAAABMCAgAwGZaA1NbWKjs7W2lpacrPz9eOHTsGPXbjxo1auHChpkyZoilTpigUCp30eADA6OB5QDZv3qxwOKyqqirt3LlTc+bMUWFhoQ4ePDjg8du3b9d1112nN954Q01NTQoGg7rqqqv06aefej0aAMBDSc455+Ud5ufn69JLL9W6deskSbFYTMFgUHfccYeWL1/+f8/v7e3VlClTtG7dOpWUlJzSY0ajUfn9fnV2dio9Pf205geA0WAsPK95egXS09Oj5uZmhUKhbx4gOVmhUEhNTU2ndB9Hjx7VsWPHdOaZZw56THd3t6LRaJ8bAGBkeRqQjo4O9fb2KhAI9FkPBAKKRCKndB/Lli3T9OnT+0To26qrq+X3++O3YDB4WnMDAIZuVH0Ka82aNaqrq9PWrVuVlpY26HEVFRXq7OyM3w4cODCCUwIAJGmcl3c2depUpaSkqL29vc96e3u7pk2bdtJzH330Ua1Zs0avv/66Lr744pMe6/P55PP5TnteAICdp1cgqampys3NVWNjY3wtFoupsbFRBQUFg5738MMPa9WqVWpoaFBeXp6XIwEAhomnVyCSFA6HVVpaqry8PM2bN081NTXq6upSWVmZJKmkpERZWVmqrq6WJP3+979XZWWlNm3apOzs7Ph7JWeccYbOOOMMr8cDAHjE84AUFxfr0KFDqqysVCQSUU5OjhoaGuJvrLe1tSk5+ZsLnyeeeEI9PT365S9/2ed+qqqqdN9993k9HgDAI57/HkgijIXPSwPAUIyF57VR9SksAMDYQUAAACYEBABgQkAAACYEBABgQkAAACYEBABgQkAAACYEBABgQkAAACYEBABgQkAAACYEBABgQkAAACYEBABgQkAAACYEBABgQkAAACYEBABgQkAAACYEBABgQkAAACYEBABgQkAAACYEBABgQkAAACYEBABgQkAAACYEBABgQkAAACYEBABgQkAAACYEBABgQkAAACYEBABgQkAAACYEBABgQkAAACYEBABgQkAAACYEBABgQkAAACYEBABgQkAAACYEBABgQkAAACYEBABgQkAAACYEBABgQkAAACYEBABgMiwBqa2tVXZ2ttLS0pSfn68dO3ac9Pi//OUvOu+885SWlqaLLrpI9fX1wzEWAMBDngdk8+bNCofDqqqq0s6dOzVnzhwVFhbq4MGDAx7/zjvv6LrrrtMNN9ygXbt2adGiRVq0aJHef/99r0cDAHgoyTnnvLzD/Px8XXrppVq3bp0kKRaLKRgM6o477tDy5cv7HV9cXKyuri698sor8bXLLrtMOTk52rBhwyk9ZjQald/vV2dnp9LT073ZCAAk0Fh4Xhvn5Z319PSoublZFRUV8bXk5GSFQiE1NTUNeE5TU5PC4XCftcLCQr300kuDPk53d7e6u7vjP3d2dkr6+g8cAL4LTjyfefzv+J7yNCAdHR3q7e1VIBDosx4IBLRnz54Bz4lEIgMeH4lEBn2c6upq3X///f3Wg8GgYWoAGL3+/e9/y+/3J3qMAXkakJFSUVHR56rl8OHDOvvss9XW1jZq/6CHQzQaVTAY1IEDB0btJe5wYN/s+/ugs7NTZ511ls4888xEjzIoTwMydepUpaSkqL29vc96e3u7pk2bNuA506ZNG9LxkuTz+eTz+fqt+/3+79U/YCekp6ez7+8R9v39kpw8en/bwtPJUlNTlZubq8bGxvhaLBZTY2OjCgoKBjynoKCgz/GS9Nprrw16PABgdPD8JaxwOKzS0lLl5eVp3rx5qqmpUVdXl8rKyiRJJSUlysrKUnV1tSTpzjvv1BVXXKHHHntM11xzjerq6vTuu+/qySef9Ho0AICHPA9IcXGxDh06pMrKSkUiEeXk5KihoSH+RnlbW1ufS7L58+dr06ZNWrlype655x795Cc/0UsvvaTZs2ef8mP6fD5VVVUN+LLWdxn7Zt/fB+x79O7b898DAQB8P4zed2cAAKMaAQEAmBAQAIAJAQEAmIyZgHxfvyJ+KPveuHGjFi5cqClTpmjKlCkKhUL/989ptBrq3/cJdXV1SkpK0qJFi4Z3wGEy1H0fPnxY5eXlyszMlM/n06xZs8bkP+tD3XdNTY3OPfdcTZgwQcFgUEuXLtVXX301QtN6480331RRUZGmT5+upKSkk37/3wnbt2/XJZdcIp/Pp3POOUfPPvvssM95Um4MqKurc6mpqe6ZZ55x//znP91NN93kJk+e7Nrb2wc8/u2333YpKSnu4Ycfdh988IFbuXKlGz9+vHvvvfdGePLTM9R9L1682NXW1rpdu3a53bt3u1//+tfO7/e7f/3rXyM8+ekZ6r5P2L9/v8vKynILFy50v/jFL0ZmWA8Ndd/d3d0uLy/PXX311e6tt95y+/fvd9u3b3ctLS0jPPnpGeq+n3/+eefz+dzzzz/v9u/f71599VWXmZnpli5dOsKTn576+nq3YsUK9+KLLzpJbuvWrSc9vrW11U2cONGFw2H3wQcfuMcff9ylpKS4hoaGkRl4AGMiIPPmzXPl5eXxn3t7e9306dNddXX1gMdfe+217pprrumzlp+f737zm98M65xeG+q+v+348eNu0qRJ7rnnnhuuEYeFZd/Hjx938+fPd0899ZQrLS0dkwEZ6r6feOIJN2PGDNfT0zNSIw6Loe67vLzc/fSnP+2zFg6H3YIFC4Z1zuF0KgG5++673YUXXthnrbi42BUWFg7jZCc36l/COvEV8aFQKL52Kl8R/7/HS19/Rfxgx49Gln1/29GjR3Xs2LFR/WVs32bd9wMPPKCMjAzdcMMNIzGm5yz7fvnll1VQUKDy8nIFAgHNnj1bq1evVm9v70iNfdos+54/f76am5vjL3O1traqvr5eV1999YjMnCij8Xlt1H8b70h9RfxoY9n3ty1btkzTp0/v9w/daGbZ91tvvaWnn35aLS0tIzDh8LDsu7W1VX//+991/fXXq76+Xvv27dNtt92mY8eOqaqqaiTGPm2WfS9evFgdHR26/PLL5ZzT8ePHdcstt+iee+4ZiZETZrDntWg0qi+//FITJkwY8ZlG/RUIbNasWaO6ujpt3bpVaWlpiR5n2Bw5ckRLlizRxo0bNXXq1ESPM6JisZgyMjL05JNPKjc3V8XFxVqxYsUp/5c8x6rt27dr9erVWr9+vXbu3KkXX3xR27Zt06pVqxI92vfOqL8CGamviB9tLPs+4dFHH9WaNWv0+uuv6+KLLx7OMT031H1/9NFH+vjjj1VUVBRfi8VikqRx48Zp7969mjlz5vAO7QHL33dmZqbGjx+vlJSU+Nr555+vSCSinp4epaamDuvMXrDs+95779WSJUt04403SpIuuugidXV16eabb9aKFStG9defn47BntfS09MTcvUhjYErkO/rV8Rb9i1JDz/8sFatWqWGhgbl5eWNxKieGuq+zzvvPL333ntqaWmJ337+85/ryiuvVEtLy5j5r1Ra/r4XLFigffv2xYMpSR9++KEyMzPHRDwk276PHj3aLxInIuq+w1/tNyqf1xL29v0Q1NXVOZ/P55599ln3wQcfuJtvvtlNnjzZRSIR55xzS5YsccuXL48f//bbb7tx48a5Rx991O3evdtVVVWN2Y/xDmXfa9ascampqW7Lli3us88+i9+OHDmSqC2YDHXf3zZWP4U11H23tbW5SZMmudtvv93t3bvXvfLKKy4jI8M9+OCDidqCyVD3XVVV5SZNmuT+/Oc/u9bWVve3v/3NzZw501177bWJ2oLJkSNH3K5du9yuXbucJLd27Vq3a9cu98knnzjnnFu+fLlbsmRJ/PgTH+P93e9+53bv3u1qa2v5GO+pevzxx91ZZ53lUlNT3bx589w//vGP+P92xRVXuNLS0j7Hv/DCC27WrFkuNTXVXXjhhW7btm0jPLE3hrLvs88+20nqd6uqqhr5wU/TUP++/9dYDYhzQ9/3O++84/Lz853P53MzZsxwDz30kDt+/PgIT336hrLvY8eOufvuu8/NnDnTpaWluWAw6G677Tb3n//8Z+QHPw1vvPHGgP9/PbHX0tJSd8UVV/Q7Jycnx6WmproZM2a4P/7xjyM+9//i69wBACaj/j0QAMDoREAAACYEBABgQkAAACYEBABgQkAAACYEBABgQkAAACYEBABgQkAAACYEBABgQkAAACYEBABgQkAAACYEBABgQkAAACYEBABgQkAAACYEBABgQkAAACYEBABgQkAAACb/BaEI13JWW2SaAAAAAElFTkSuQmCC' width=400.0/>\n",
       "            </div>\n",
       "        "
      ],
      "text/plain": [
       "Canvas(toolbar=Toolbar(toolitems=[('Home', 'Reset original view', 'home', 'home'), ('Back', 'Back to previous …"
      ]
     },
     "metadata": {},
     "output_type": "display_data"
    }
   ],
   "source": [
    "fig,ax = plt.subplots(1,1,figsize=(4,4))\n",
    "plot_data(X_train, y_train, ax)\n",
    "\n",
    "# Set both axes to be from 0-4\n",
    "ax.axis([0, 4, 0, 3.5])\n",
    "ax.set_ylabel('$x_1$', fontsize=12)\n",
    "ax.set_xlabel('$x_0$', fontsize=12)\n",
    "plt.show()"
   ]
  },
  {
   "cell_type": "markdown",
   "id": "23f85f52",
   "metadata": {},
   "source": [
    "## Cost function\n",
    "\n",
    "In a previous lab, you developed the *logistic loss* function. Recall, loss is defined to apply to one example. Here you combine the losses to form the **cost**, which includes all the examples.\n",
    "\n",
    "\n",
    "Recall that for logistic regression, the cost function is of the form \n",
    "\n",
    "$$ J(\\mathbf{w},b) = \\frac{1}{m} \\sum_{i=0}^{m-1} \\left[ loss(f_{\\mathbf{w},b}(\\mathbf{x}^{(i)}), y^{(i)}) \\right] \\tag{1}$$\n",
    "\n",
    "where\n",
    "* $loss(f_{\\mathbf{w},b}(\\mathbf{x}^{(i)}), y^{(i)})$ is the cost for a single data point, which is:\n",
    "\n",
    "    $$loss(f_{\\mathbf{w},b}(\\mathbf{x}^{(i)}), y^{(i)}) = -y^{(i)} \\log\\left(f_{\\mathbf{w},b}\\left( \\mathbf{x}^{(i)} \\right) \\right) - \\left( 1 - y^{(i)}\\right) \\log \\left( 1 - f_{\\mathbf{w},b}\\left( \\mathbf{x}^{(i)} \\right) \\right) \\tag{2}$$\n",
    "    \n",
    "*  where m is the number of training examples in the data set and:\n",
    "$$\n",
    "\\begin{align}\n",
    "  f_{\\mathbf{w},b}(\\mathbf{x^{(i)}}) &= g(z^{(i)})\\tag{3} \\\\\n",
    "  z^{(i)} &= \\mathbf{w} \\cdot \\mathbf{x}^{(i)}+ b\\tag{4} \\\\\n",
    "  g(z^{(i)}) &= \\frac{1}{1+e^{-z^{(i)}}}\\tag{5} \n",
    "\\end{align}\n",
    "$$\n",
    " "
   ]
  },
  {
   "cell_type": "markdown",
   "id": "4ebcff21",
   "metadata": {},
   "source": [
    "<a name='ex-02'></a>\n",
    "#### Code Description\n",
    "\n",
    "The algorithm for `compute_cost_logistic` loops over all the examples calculating the loss for each example and accumulating the total.\n",
    "\n",
    "Note that the variables X and y are not scalar values but matrices of shape ($m, n$) and ($𝑚$,) respectively, where  $𝑛$ is the number of features and $𝑚$ is the number of training examples.\n"
   ]
  },
  {
   "cell_type": "code",
   "execution_count": 8,
   "id": "7f7c97ae",
   "metadata": {},
   "outputs": [],
   "source": [
    "def compute_cost_logistic(X, y, w, b):\n",
    "    \"\"\"\n",
    "    Computes cost\n",
    "\n",
    "    Args:\n",
    "      X (ndarray (m,n)): Data, m examples with n features\n",
    "      y (ndarray (m,)) : target values\n",
    "      w (ndarray (n,)) : model parameters  \n",
    "      b (scalar)       : model parameter\n",
    "      \n",
    "    Returns:\n",
    "      cost (scalar): cost\n",
    "    \"\"\"\n",
    "\n",
    "    m = X.shape[0]\n",
    "    cost = 0.0\n",
    "    for i in range(m):\n",
    "        z_i = np.dot(X[i],w) + b\n",
    "        f_wb_i = sigmoid(z_i)\n",
    "        cost +=  -y[i]*np.log(f_wb_i) - (1-y[i])*np.log(1-f_wb_i)\n",
    "             \n",
    "    cost = cost / m\n",
    "    return cost\n"
   ]
  },
  {
   "cell_type": "markdown",
   "id": "3590872d",
   "metadata": {},
   "source": [
    "Check the implementation of the cost function using the cell below."
   ]
  },
  {
   "cell_type": "code",
   "execution_count": 9,
   "id": "ebad6251",
   "metadata": {},
   "outputs": [
    {
     "name": "stdout",
     "output_type": "stream",
     "text": [
      "0.36686678640551745\n"
     ]
    }
   ],
   "source": [
    "w_tmp = np.array([1,1])\n",
    "b_tmp = -3\n",
    "print(compute_cost_logistic(X_train, y_train, w_tmp, b_tmp))"
   ]
  },
  {
   "cell_type": "markdown",
   "id": "27967055",
   "metadata": {},
   "source": [
    "**Expected output**: 0.3668667864055175"
   ]
  },
  {
   "cell_type": "markdown",
   "id": "548ac8ef",
   "metadata": {},
   "source": [
    "## Example\n",
    "Now, let's see what the cost function output is for a different value of $w$. \n",
    "\n",
    "* In a previous lab, you plotted the decision boundary for  $b = -3, w_0 = 1, w_1 = 1$. That is, you had `b = -3, w = np.array([1,1])`.\n",
    "\n",
    "* Let's say you want to see if $b = -4, w_0 = 1, w_1 = 1$, or `b = -4, w = np.array([1,1])` provides a better model.\n",
    "\n",
    "Let's first plot the decision boundary for these two different $b$ values to see which one fits the data better.\n",
    "\n",
    "* For $b = -3, w_0 = 1, w_1 = 1$, we'll plot $-3 + x_0+x_1 = 0$ (shown in blue)\n",
    "* For $b = -4, w_0 = 1, w_1 = 1$, we'll plot $-4 + x_0+x_1 = 0$ (shown in magenta)"
   ]
  },
  {
   "cell_type": "code",
   "execution_count": 3,
   "id": "c5c05eca",
   "metadata": {},
   "outputs": [
    {
     "ename": "ImportError",
     "evalue": "cannot import name 'FigureBase' from 'matplotlib.figure' (C:\\ProgramData\\Anaconda3\\lib\\site-packages\\matplotlib\\figure.py)",
     "output_type": "error",
     "traceback": [
      "\u001b[1;31m---------------------------------------------------------------------------\u001b[0m",
      "\u001b[1;31mImportError\u001b[0m                               Traceback (most recent call last)",
      "\u001b[1;32m<ipython-input-3-086b2f036fca>\u001b[0m in \u001b[0;36m<module>\u001b[1;34m\u001b[0m\n\u001b[1;32m----> 1\u001b[1;33m \u001b[1;32mimport\u001b[0m \u001b[0mmatplotlib\u001b[0m\u001b[1;33m.\u001b[0m\u001b[0mpyplot\u001b[0m \u001b[1;32mas\u001b[0m \u001b[0mplt\u001b[0m\u001b[1;33m\u001b[0m\u001b[1;33m\u001b[0m\u001b[0m\n\u001b[0m\u001b[0;32m      2\u001b[0m \u001b[1;33m\u001b[0m\u001b[0m\n\u001b[0;32m      3\u001b[0m \u001b[1;31m# Choose values between 0 and 6\u001b[0m\u001b[1;33m\u001b[0m\u001b[1;33m\u001b[0m\u001b[1;33m\u001b[0m\u001b[0m\n\u001b[0;32m      4\u001b[0m \u001b[0mx0\u001b[0m \u001b[1;33m=\u001b[0m \u001b[0mnp\u001b[0m\u001b[1;33m.\u001b[0m\u001b[0marange\u001b[0m\u001b[1;33m(\u001b[0m\u001b[1;36m0\u001b[0m\u001b[1;33m,\u001b[0m\u001b[1;36m6\u001b[0m\u001b[1;33m)\u001b[0m\u001b[1;33m\u001b[0m\u001b[1;33m\u001b[0m\u001b[0m\n\u001b[0;32m      5\u001b[0m \u001b[1;33m\u001b[0m\u001b[0m\n",
      "\u001b[1;32mC:\\ProgramData\\Anaconda3\\lib\\site-packages\\matplotlib\\pyplot.py\u001b[0m in \u001b[0;36m<module>\u001b[1;34m\u001b[0m\n\u001b[0;32m     58\u001b[0m \u001b[1;32mfrom\u001b[0m \u001b[0mmatplotlib\u001b[0m \u001b[1;32mimport\u001b[0m \u001b[0m_docstring\u001b[0m\u001b[1;33m\u001b[0m\u001b[1;33m\u001b[0m\u001b[0m\n\u001b[0;32m     59\u001b[0m \u001b[1;32mfrom\u001b[0m \u001b[0mmatplotlib\u001b[0m\u001b[1;33m.\u001b[0m\u001b[0mbackend_bases\u001b[0m \u001b[1;32mimport\u001b[0m \u001b[0mFigureCanvasBase\u001b[0m\u001b[1;33m,\u001b[0m \u001b[0mMouseButton\u001b[0m\u001b[1;33m\u001b[0m\u001b[1;33m\u001b[0m\u001b[0m\n\u001b[1;32m---> 60\u001b[1;33m \u001b[1;32mfrom\u001b[0m \u001b[0mmatplotlib\u001b[0m\u001b[1;33m.\u001b[0m\u001b[0mfigure\u001b[0m \u001b[1;32mimport\u001b[0m \u001b[0mFigure\u001b[0m\u001b[1;33m,\u001b[0m \u001b[0mFigureBase\u001b[0m\u001b[1;33m,\u001b[0m \u001b[0mfigaspect\u001b[0m\u001b[1;33m\u001b[0m\u001b[1;33m\u001b[0m\u001b[0m\n\u001b[0m\u001b[0;32m     61\u001b[0m \u001b[1;32mfrom\u001b[0m \u001b[0mmatplotlib\u001b[0m\u001b[1;33m.\u001b[0m\u001b[0mgridspec\u001b[0m \u001b[1;32mimport\u001b[0m \u001b[0mGridSpec\u001b[0m\u001b[1;33m,\u001b[0m \u001b[0mSubplotSpec\u001b[0m\u001b[1;33m\u001b[0m\u001b[1;33m\u001b[0m\u001b[0m\n\u001b[0;32m     62\u001b[0m \u001b[1;32mfrom\u001b[0m \u001b[0mmatplotlib\u001b[0m \u001b[1;32mimport\u001b[0m \u001b[0mrcParams\u001b[0m\u001b[1;33m,\u001b[0m \u001b[0mrcParamsDefault\u001b[0m\u001b[1;33m,\u001b[0m \u001b[0mget_backend\u001b[0m\u001b[1;33m,\u001b[0m \u001b[0mrcParamsOrig\u001b[0m\u001b[1;33m\u001b[0m\u001b[1;33m\u001b[0m\u001b[0m\n",
      "\u001b[1;31mImportError\u001b[0m: cannot import name 'FigureBase' from 'matplotlib.figure' (C:\\ProgramData\\Anaconda3\\lib\\site-packages\\matplotlib\\figure.py)"
     ]
    }
   ],
   "source": [
    "import matplotlib.pyplot as plt\n",
    "\n",
    "# Choose values between 0 and 6\n",
    "x0 = np.arange(0,6)\n",
    "\n",
    "# Plot the two decision boundaries\n",
    "x1 = 3 - x0\n",
    "x1_other = 4 - x0\n",
    "\n",
    "fig,ax = plt.subplots(1, 1, figsize=(4,4))\n",
    "# Plot the decision boundary\n",
    "ax.plot(x0,x1, c=dlc[\"dlblue\"], label=\"$b$=-3\")\n",
    "ax.plot(x0,x1_other, c=dlc[\"dlmagenta\"], label=\"$b$=-4\")\n",
    "ax.axis([0, 4, 0, 4])\n",
    "\n",
    "# Plot the original data\n",
    "plot_data(X_train,y_train,ax)\n",
    "ax.axis([0, 4, 0, 4])\n",
    "ax.set_ylabel('$x_1$', fontsize=12)\n",
    "ax.set_xlabel('$x_0$', fontsize=12)\n",
    "plt.legend(loc=\"upper right\")\n",
    "plt.title(\"Decision Boundary\")\n",
    "plt.show()"
   ]
  },
  {
   "cell_type": "markdown",
   "id": "be1c8d9c",
   "metadata": {},
   "source": [
    "You can see from this plot that `b = -4, w = np.array([1,1])` is a worse model for the training data. Let's see if the cost function implementation reflects this."
   ]
  },
  {
   "cell_type": "code",
   "execution_count": null,
   "id": "cddd4263",
   "metadata": {},
   "outputs": [],
   "source": [
    "w_array1 = np.array([1,1])\n",
    "b_1 = -3\n",
    "w_array2 = np.array([1,1])\n",
    "b_2 = -4\n",
    "\n",
    "print(\"Cost for b = -3 : \", compute_cost_logistic(X_train, y_train, w_array1, b_1))\n",
    "print(\"Cost for b = -4 : \", compute_cost_logistic(X_train, y_train, w_array2, b_2))"
   ]
  },
  {
   "cell_type": "markdown",
   "id": "c2448cc7",
   "metadata": {},
   "source": [
    "**Expected output**\n",
    "\n",
    "Cost for b = -3 :  0.3668667864055175\n",
    "\n",
    "Cost for b = -4 :  0.5036808636748461\n",
    "\n",
    "\n",
    "You can see the cost function behaves as expected and the cost for `b = -4, w = np.array([1,1])` is indeed higher than the cost for `b = -3, w = np.array([1,1])`"
   ]
  },
  {
   "cell_type": "markdown",
   "id": "efc43f20",
   "metadata": {},
   "source": [
    "## Congratulations!\n",
    "In this lab you examined and utilized the cost function for logistic regression."
   ]
  },
  {
   "cell_type": "code",
   "execution_count": null,
   "id": "64f9709f",
   "metadata": {},
   "outputs": [],
   "source": []
  }
 ],
 "metadata": {
  "kernelspec": {
   "display_name": "Python 3",
   "language": "python",
   "name": "python3"
  },
  "language_info": {
   "codemirror_mode": {
    "name": "ipython",
    "version": 3
   },
   "file_extension": ".py",
   "mimetype": "text/x-python",
   "name": "python",
   "nbconvert_exporter": "python",
   "pygments_lexer": "ipython3",
   "version": "3.8.8"
  }
 },
 "nbformat": 4,
 "nbformat_minor": 5
}
